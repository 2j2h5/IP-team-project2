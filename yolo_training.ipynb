{
 "cells": [
  {
   "cell_type": "code",
   "execution_count": null,
   "metadata": {},
   "outputs": [],
   "source": [
    "!pip install torch\n",
    "!pip install ultralytics\n",
    "!pip install kagglehub"
   ]
  },
  {
   "cell_type": "code",
   "execution_count": null,
   "metadata": {},
   "outputs": [],
   "source": [
    "import os\n",
    "import cv2\n",
    "import yaml\n",
    "import shutil\n",
    "import numpy as np\n",
    "import matplotlib.pyplot as plt\n",
    "import torch\n",
    "from ultralytics import YOLO\n",
    "\n",
    "print(torch.cuda.is_available())\n",
    "\n",
    "\n",
    "def list_directory_tree_with_os_walk(starting_directory):\n",
    "    for root, directories, files in os.walk(starting_directory):\n",
    "        print(f\"Directory: {root}\")"
   ]
  },
  {
   "cell_type": "code",
   "execution_count": null,
   "metadata": {},
   "outputs": [],
   "source": [
    "import kagglehub\n",
    "\n",
    "path = kagglehub.dataset_download(\"fareselmenshawii/large-license-plate-dataset\")\n",
    "print(path)"
   ]
  },
  {
   "cell_type": "code",
   "execution_count": null,
   "metadata": {},
   "outputs": [],
   "source": [
    "list_directory_tree_with_os_walk(path)\n",
    "\n",
    "def move_files_to_new_directory(source, destination):\n",
    "    try:\n",
    "        shutil.copytree(source, destination)\n",
    "    except FileExistsError as e:\n",
    "        print(f\"Directory already exists: {destination}\")\n",
    "\n",
    "move_files_to_new_directory(os.path.join(path, 'images/train'), '/kaggle/working/dataset/train/images/')\n",
    "move_files_to_new_directory(os.path.join(path, 'labels/train'), '/kaggle/working/dataset/train/labels/')\n",
    "move_files_to_new_directory(os.path.join(path, 'images/val'), '/kaggle/working/dataset/validation/images/')\n",
    "move_files_to_new_directory(os.path.join(path, 'labels/val'), '/kaggle/working/dataset/validation/labels/')\n",
    "move_files_to_new_directory(os.path.join(path, 'images/test'), '/kaggle/working/dataset/test/images/')\n",
    "move_files_to_new_directory(os.path.join(path, 'labels/test'), '/kaggle/working/dataset/test/labels/')\n",
    "\n",
    "list_directory_tree_with_os_walk('/kaggle/working/dataset')\n",
    "\n",
    "training_config = {\"path\": \"/kaggle/working/dataset\", \"train\":\"train/images\", \"val\": \"validation/images\", \"test\": \"test/images\", \"names\": {0: \"license_plate\"}}\n",
    "with open('data.yaml', 'w') as yaml_file:\n",
    "    yaml.dump(training_config, yaml_file, sort_keys=False)"
   ]
  },
  {
   "cell_type": "code",
   "execution_count": 18,
   "metadata": {},
   "outputs": [],
   "source": [
    "model = YOLO(\"yolov8n.pt\")"
   ]
  },
  {
   "cell_type": "code",
   "execution_count": null,
   "metadata": {},
   "outputs": [],
   "source": [
    "results = model.train(data=\"data.yaml\", epochs=1, imgsz=640, patience=10)"
   ]
  },
  {
   "cell_type": "code",
   "execution_count": null,
   "metadata": {},
   "outputs": [],
   "source": [
    "model.export(format='onnx', weights='best.pt')"
   ]
  }
 ],
 "metadata": {
  "kernelspec": {
   "display_name": "Python 3",
   "language": "python",
   "name": "python3"
  },
  "language_info": {
   "codemirror_mode": {
    "name": "ipython",
    "version": 3
   },
   "file_extension": ".py",
   "mimetype": "text/x-python",
   "name": "python",
   "nbconvert_exporter": "python",
   "pygments_lexer": "ipython3",
   "version": "3.12.4"
  }
 },
 "nbformat": 4,
 "nbformat_minor": 2
}
